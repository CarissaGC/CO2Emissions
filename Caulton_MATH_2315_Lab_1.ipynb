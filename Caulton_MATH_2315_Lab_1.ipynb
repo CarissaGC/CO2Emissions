{
  "nbformat": 4,
  "nbformat_minor": 0,
  "metadata": {
    "colab": {
      "provenance": []
    },
    "kernelspec": {
      "name": "python3",
      "display_name": "Python 3"
    },
    "language_info": {
      "name": "python"
    }
  },
  "cells": [
    {
      "cell_type": "markdown",
      "source": [
        "## Imports"
      ],
      "metadata": {
        "id": "Av8gH1UmMgFv"
      }
    },
    {
      "cell_type": "code",
      "execution_count": 64,
      "metadata": {
        "id": "f9-cSwbcMJc7"
      },
      "outputs": [],
      "source": [
        "# Import pandas, numpy, and matplotlib\n",
        "import pandas as pd\n",
        "import numpy as np\n",
        "import matplotlib.pyplot as plt\n",
        "\n",
        "# seaborn is a data visualization library built on matplotlib\n",
        "import seaborn as sns \n",
        "\n",
        "# set the plotting style \n",
        "sns.set_style(\"whitegrid\")\n",
        "\n",
        "# Plot missing values\n",
        "import missingno as msno"
      ]
    },
    {
      "cell_type": "markdown",
      "source": [
        "## Lab introduction"
      ],
      "metadata": {
        "id": "3600arA2CaSv"
      }
    },
    {
      "cell_type": "markdown",
      "source": [
        "In this lab, we work to improve our understanding of global CO$_2$ emission trends for the 10 highest CO$_2$ emitting countries. We will be using the the greenhouse gas emission data set owid-co2-data.csv from Our World in Data. This dataset can be accessed through the OWiD github page here: https://github.com/owid/co2-data\n",
        "\n",
        "Using graphing tools available to us through Python and open-source data analysis tools pandas, numpy, matplotlib, and seaborn, we will analyize trends in CO$_2$ emissions data for the current top 10 emitters. We will utilize a mix of time plots, box plots, and histograms for our analysis.\n",
        "\n",
        "Some questions we hope to address in completing this lab include how global CO$_2$ emissions have evolved over the past 50 years, how the CO$_2$ emissions from the 10 largest emitters have evolved over the past 50 years, and how these two trends compare. Additionally, we hope to compare trends between different countries within the top 10 emitters list.\n",
        "\n"
      ],
      "metadata": {
        "id": "nuNtt1LwCj2t"
      }
    },
    {
      "cell_type": "markdown",
      "source": [
        "## Import and set up the data set"
      ],
      "metadata": {
        "id": "hrNAfmwpMj2L"
      }
    },
    {
      "cell_type": "markdown",
      "source": [
        "##### $\\rightarrow$ Use Pandas to load the file `owid-co2-data.csv` from https://github.com/owid/co2-data as a `DataFrame`. Name the `DataFrame` `df`."
      ],
      "metadata": {
        "id": "aQxUj8ChtEGr"
      }
    },
    {
      "cell_type": "markdown",
      "source": [
        "##### Solution"
      ],
      "metadata": {
        "id": "75igDlZQOqzQ"
      }
    },
    {
      "cell_type": "code",
      "source": [
        "df = pd.read_csv('https://raw.githubusercontent.com/owid/co2-data/master/owid-co2-data.csv')"
      ],
      "metadata": {
        "id": "DNoMPgs1EcNV"
      },
      "execution_count": 65,
      "outputs": []
    },
    {
      "cell_type": "markdown",
      "source": [
        "Consult the [codebook](https://github.com/owid/co2-data/blob/master/owid-co2-codebook.csv) to see the description of each column.\n",
        "\n"
      ],
      "metadata": {
        "id": "jZAaO4glOZC1"
      }
    },
    {
      "cell_type": "markdown",
      "source": [
        "##### $\\rightarrow$ Select the rows corresponding to individual countries "
      ],
      "metadata": {
        "id": "oQvGwApO35VP"
      }
    },
    {
      "cell_type": "markdown",
      "source": [
        "The `country` column of the data set contains some values that are groups of countries. We will remove these observations from the data set."
      ],
      "metadata": {
        "id": "CoBCrqDQK8RF"
      }
    },
    {
      "cell_type": "code",
      "source": [
        "non_countries = ['Africa', 'Africa (GCP)', 'Asia', 'Asia (GCP)', 'Asia (excl. China and India)', 'Central America (GCP)',\n",
        "                  'EU-27', 'Europe', 'Europe (excl. EU-27)', 'European Union (27) (GCP)', 'Europe (GCP)',\n",
        "                  'Europe (excl. EU-28)', 'European Union (27)', \n",
        "                  'European Union (28)', 'French Equatorial Africa', \n",
        "                  'French Guiana', 'French Polynesia', 'French West Africa',\n",
        "                  'High-income countries', 'International transport', \n",
        "                  'Low-income countries', 'Lower-middle-income countries', 'Mayotte', 'Middle East (GCP)',\n",
        "                  'Non-OECD (GCP)',\n",
        "                  'North America',  'North America (excl. USA)', 'North America (GCP)',\n",
        "                  'Oceania (GCP)', 'OECD (GCP)', \n",
        "                  'Panama Canal Zone','South America', 'South America (GCP)', 'Upper-middle-income countries', \n",
        "                  'World']"
      ],
      "metadata": {
        "id": "eD0vOVGQkTHq"
      },
      "execution_count": 66,
      "outputs": []
    },
    {
      "cell_type": "markdown",
      "source": [
        "Remove the rows corresponding to the non-countries."
      ],
      "metadata": {
        "id": "8gJuF0O9LoPY"
      }
    },
    {
      "cell_type": "code",
      "source": [
        "df = df.loc[df['country'].isin(non_countries) == False]"
      ],
      "metadata": {
        "id": "Edr6Pb2NvwTO"
      },
      "execution_count": 67,
      "outputs": []
    },
    {
      "cell_type": "markdown",
      "source": [
        "## Explore the data set"
      ],
      "metadata": {
        "id": "9_VL9S0ZL8eJ"
      }
    },
    {
      "cell_type": "markdown",
      "source": [
        "##### $\\rightarrow$ Display the head of the data frame"
      ],
      "metadata": {
        "id": "q6694yBOMD3F"
      }
    },
    {
      "cell_type": "markdown",
      "source": [
        "##### Solution"
      ],
      "metadata": {
        "id": "QwTFcX-IOpH9"
      }
    },
    {
      "cell_type": "markdown",
      "source": [
        "We use the ```head``` method to display the first five rows and all columns of the data frame ```df```.\n",
        "\n"
      ],
      "metadata": {
        "id": "1neUIg_bqAA5"
      }
    },
    {
      "cell_type": "code",
      "source": [
        "df.head()"
      ],
      "metadata": {
        "colab": {
          "base_uri": "https://localhost:8080/",
          "height": 299
        },
        "id": "sU7KUUbIp0sy",
        "outputId": "9bd2b508-85c0-438b-d7ed-42046f8ccb1e"
      },
      "execution_count": 68,
      "outputs": [
        {
          "output_type": "execute_result",
          "data": {
            "text/plain": [
              "       country  year iso_code  population  gdp  cement_co2  \\\n",
              "0  Afghanistan  1850      AFG   3752993.0  NaN         NaN   \n",
              "1  Afghanistan  1851      AFG   3769828.0  NaN         NaN   \n",
              "2  Afghanistan  1852      AFG   3787706.0  NaN         NaN   \n",
              "3  Afghanistan  1853      AFG   3806634.0  NaN         NaN   \n",
              "4  Afghanistan  1854      AFG   3825655.0  NaN         NaN   \n",
              "\n",
              "   cement_co2_per_capita  co2  co2_growth_abs  co2_growth_prct  ...  \\\n",
              "0                    NaN  NaN             NaN              NaN  ...   \n",
              "1                    NaN  NaN             NaN              NaN  ...   \n",
              "2                    NaN  NaN             NaN              NaN  ...   \n",
              "3                    NaN  NaN             NaN              NaN  ...   \n",
              "4                    NaN  NaN             NaN              NaN  ...   \n",
              "\n",
              "   share_global_cumulative_other_co2  share_global_flaring_co2  \\\n",
              "0                                NaN                       NaN   \n",
              "1                                NaN                       NaN   \n",
              "2                                NaN                       NaN   \n",
              "3                                NaN                       NaN   \n",
              "4                                NaN                       NaN   \n",
              "\n",
              "   share_global_gas_co2  share_global_luc_co2  share_global_oil_co2  \\\n",
              "0                   NaN                 0.121                   NaN   \n",
              "1                   NaN                 0.118                   NaN   \n",
              "2                   NaN                 0.116                   NaN   \n",
              "3                   NaN                 0.115                   NaN   \n",
              "4                   NaN                 0.114                   NaN   \n",
              "\n",
              "   share_global_other_co2  total_ghg  total_ghg_excluding_lucf  trade_co2  \\\n",
              "0                     NaN        NaN                       NaN        NaN   \n",
              "1                     NaN        NaN                       NaN        NaN   \n",
              "2                     NaN        NaN                       NaN        NaN   \n",
              "3                     NaN        NaN                       NaN        NaN   \n",
              "4                     NaN        NaN                       NaN        NaN   \n",
              "\n",
              "   trade_co2_share  \n",
              "0              NaN  \n",
              "1              NaN  \n",
              "2              NaN  \n",
              "3              NaN  \n",
              "4              NaN  \n",
              "\n",
              "[5 rows x 74 columns]"
            ],
            "text/html": [
              "\n",
              "  <div id=\"df-5253ea89-5f48-4bba-b73f-63f34f03d6e9\">\n",
              "    <div class=\"colab-df-container\">\n",
              "      <div>\n",
              "<style scoped>\n",
              "    .dataframe tbody tr th:only-of-type {\n",
              "        vertical-align: middle;\n",
              "    }\n",
              "\n",
              "    .dataframe tbody tr th {\n",
              "        vertical-align: top;\n",
              "    }\n",
              "\n",
              "    .dataframe thead th {\n",
              "        text-align: right;\n",
              "    }\n",
              "</style>\n",
              "<table border=\"1\" class=\"dataframe\">\n",
              "  <thead>\n",
              "    <tr style=\"text-align: right;\">\n",
              "      <th></th>\n",
              "      <th>country</th>\n",
              "      <th>year</th>\n",
              "      <th>iso_code</th>\n",
              "      <th>population</th>\n",
              "      <th>gdp</th>\n",
              "      <th>cement_co2</th>\n",
              "      <th>cement_co2_per_capita</th>\n",
              "      <th>co2</th>\n",
              "      <th>co2_growth_abs</th>\n",
              "      <th>co2_growth_prct</th>\n",
              "      <th>...</th>\n",
              "      <th>share_global_cumulative_other_co2</th>\n",
              "      <th>share_global_flaring_co2</th>\n",
              "      <th>share_global_gas_co2</th>\n",
              "      <th>share_global_luc_co2</th>\n",
              "      <th>share_global_oil_co2</th>\n",
              "      <th>share_global_other_co2</th>\n",
              "      <th>total_ghg</th>\n",
              "      <th>total_ghg_excluding_lucf</th>\n",
              "      <th>trade_co2</th>\n",
              "      <th>trade_co2_share</th>\n",
              "    </tr>\n",
              "  </thead>\n",
              "  <tbody>\n",
              "    <tr>\n",
              "      <th>0</th>\n",
              "      <td>Afghanistan</td>\n",
              "      <td>1850</td>\n",
              "      <td>AFG</td>\n",
              "      <td>3752993.0</td>\n",
              "      <td>NaN</td>\n",
              "      <td>NaN</td>\n",
              "      <td>NaN</td>\n",
              "      <td>NaN</td>\n",
              "      <td>NaN</td>\n",
              "      <td>NaN</td>\n",
              "      <td>...</td>\n",
              "      <td>NaN</td>\n",
              "      <td>NaN</td>\n",
              "      <td>NaN</td>\n",
              "      <td>0.121</td>\n",
              "      <td>NaN</td>\n",
              "      <td>NaN</td>\n",
              "      <td>NaN</td>\n",
              "      <td>NaN</td>\n",
              "      <td>NaN</td>\n",
              "      <td>NaN</td>\n",
              "    </tr>\n",
              "    <tr>\n",
              "      <th>1</th>\n",
              "      <td>Afghanistan</td>\n",
              "      <td>1851</td>\n",
              "      <td>AFG</td>\n",
              "      <td>3769828.0</td>\n",
              "      <td>NaN</td>\n",
              "      <td>NaN</td>\n",
              "      <td>NaN</td>\n",
              "      <td>NaN</td>\n",
              "      <td>NaN</td>\n",
              "      <td>NaN</td>\n",
              "      <td>...</td>\n",
              "      <td>NaN</td>\n",
              "      <td>NaN</td>\n",
              "      <td>NaN</td>\n",
              "      <td>0.118</td>\n",
              "      <td>NaN</td>\n",
              "      <td>NaN</td>\n",
              "      <td>NaN</td>\n",
              "      <td>NaN</td>\n",
              "      <td>NaN</td>\n",
              "      <td>NaN</td>\n",
              "    </tr>\n",
              "    <tr>\n",
              "      <th>2</th>\n",
              "      <td>Afghanistan</td>\n",
              "      <td>1852</td>\n",
              "      <td>AFG</td>\n",
              "      <td>3787706.0</td>\n",
              "      <td>NaN</td>\n",
              "      <td>NaN</td>\n",
              "      <td>NaN</td>\n",
              "      <td>NaN</td>\n",
              "      <td>NaN</td>\n",
              "      <td>NaN</td>\n",
              "      <td>...</td>\n",
              "      <td>NaN</td>\n",
              "      <td>NaN</td>\n",
              "      <td>NaN</td>\n",
              "      <td>0.116</td>\n",
              "      <td>NaN</td>\n",
              "      <td>NaN</td>\n",
              "      <td>NaN</td>\n",
              "      <td>NaN</td>\n",
              "      <td>NaN</td>\n",
              "      <td>NaN</td>\n",
              "    </tr>\n",
              "    <tr>\n",
              "      <th>3</th>\n",
              "      <td>Afghanistan</td>\n",
              "      <td>1853</td>\n",
              "      <td>AFG</td>\n",
              "      <td>3806634.0</td>\n",
              "      <td>NaN</td>\n",
              "      <td>NaN</td>\n",
              "      <td>NaN</td>\n",
              "      <td>NaN</td>\n",
              "      <td>NaN</td>\n",
              "      <td>NaN</td>\n",
              "      <td>...</td>\n",
              "      <td>NaN</td>\n",
              "      <td>NaN</td>\n",
              "      <td>NaN</td>\n",
              "      <td>0.115</td>\n",
              "      <td>NaN</td>\n",
              "      <td>NaN</td>\n",
              "      <td>NaN</td>\n",
              "      <td>NaN</td>\n",
              "      <td>NaN</td>\n",
              "      <td>NaN</td>\n",
              "    </tr>\n",
              "    <tr>\n",
              "      <th>4</th>\n",
              "      <td>Afghanistan</td>\n",
              "      <td>1854</td>\n",
              "      <td>AFG</td>\n",
              "      <td>3825655.0</td>\n",
              "      <td>NaN</td>\n",
              "      <td>NaN</td>\n",
              "      <td>NaN</td>\n",
              "      <td>NaN</td>\n",
              "      <td>NaN</td>\n",
              "      <td>NaN</td>\n",
              "      <td>...</td>\n",
              "      <td>NaN</td>\n",
              "      <td>NaN</td>\n",
              "      <td>NaN</td>\n",
              "      <td>0.114</td>\n",
              "      <td>NaN</td>\n",
              "      <td>NaN</td>\n",
              "      <td>NaN</td>\n",
              "      <td>NaN</td>\n",
              "      <td>NaN</td>\n",
              "      <td>NaN</td>\n",
              "    </tr>\n",
              "  </tbody>\n",
              "</table>\n",
              "<p>5 rows × 74 columns</p>\n",
              "</div>\n",
              "      <button class=\"colab-df-convert\" onclick=\"convertToInteractive('df-5253ea89-5f48-4bba-b73f-63f34f03d6e9')\"\n",
              "              title=\"Convert this dataframe to an interactive table.\"\n",
              "              style=\"display:none;\">\n",
              "        \n",
              "  <svg xmlns=\"http://www.w3.org/2000/svg\" height=\"24px\"viewBox=\"0 0 24 24\"\n",
              "       width=\"24px\">\n",
              "    <path d=\"M0 0h24v24H0V0z\" fill=\"none\"/>\n",
              "    <path d=\"M18.56 5.44l.94 2.06.94-2.06 2.06-.94-2.06-.94-.94-2.06-.94 2.06-2.06.94zm-11 1L8.5 8.5l.94-2.06 2.06-.94-2.06-.94L8.5 2.5l-.94 2.06-2.06.94zm10 10l.94 2.06.94-2.06 2.06-.94-2.06-.94-.94-2.06-.94 2.06-2.06.94z\"/><path d=\"M17.41 7.96l-1.37-1.37c-.4-.4-.92-.59-1.43-.59-.52 0-1.04.2-1.43.59L10.3 9.45l-7.72 7.72c-.78.78-.78 2.05 0 2.83L4 21.41c.39.39.9.59 1.41.59.51 0 1.02-.2 1.41-.59l7.78-7.78 2.81-2.81c.8-.78.8-2.07 0-2.86zM5.41 20L4 18.59l7.72-7.72 1.47 1.35L5.41 20z\"/>\n",
              "  </svg>\n",
              "      </button>\n",
              "      \n",
              "  <style>\n",
              "    .colab-df-container {\n",
              "      display:flex;\n",
              "      flex-wrap:wrap;\n",
              "      gap: 12px;\n",
              "    }\n",
              "\n",
              "    .colab-df-convert {\n",
              "      background-color: #E8F0FE;\n",
              "      border: none;\n",
              "      border-radius: 50%;\n",
              "      cursor: pointer;\n",
              "      display: none;\n",
              "      fill: #1967D2;\n",
              "      height: 32px;\n",
              "      padding: 0 0 0 0;\n",
              "      width: 32px;\n",
              "    }\n",
              "\n",
              "    .colab-df-convert:hover {\n",
              "      background-color: #E2EBFA;\n",
              "      box-shadow: 0px 1px 2px rgba(60, 64, 67, 0.3), 0px 1px 3px 1px rgba(60, 64, 67, 0.15);\n",
              "      fill: #174EA6;\n",
              "    }\n",
              "\n",
              "    [theme=dark] .colab-df-convert {\n",
              "      background-color: #3B4455;\n",
              "      fill: #D2E3FC;\n",
              "    }\n",
              "\n",
              "    [theme=dark] .colab-df-convert:hover {\n",
              "      background-color: #434B5C;\n",
              "      box-shadow: 0px 1px 3px 1px rgba(0, 0, 0, 0.15);\n",
              "      filter: drop-shadow(0px 1px 2px rgba(0, 0, 0, 0.3));\n",
              "      fill: #FFFFFF;\n",
              "    }\n",
              "  </style>\n",
              "\n",
              "      <script>\n",
              "        const buttonEl =\n",
              "          document.querySelector('#df-5253ea89-5f48-4bba-b73f-63f34f03d6e9 button.colab-df-convert');\n",
              "        buttonEl.style.display =\n",
              "          google.colab.kernel.accessAllowed ? 'block' : 'none';\n",
              "\n",
              "        async function convertToInteractive(key) {\n",
              "          const element = document.querySelector('#df-5253ea89-5f48-4bba-b73f-63f34f03d6e9');\n",
              "          const dataTable =\n",
              "            await google.colab.kernel.invokeFunction('convertToInteractive',\n",
              "                                                     [key], {});\n",
              "          if (!dataTable) return;\n",
              "\n",
              "          const docLinkHtml = 'Like what you see? Visit the ' +\n",
              "            '<a target=\"_blank\" href=https://colab.research.google.com/notebooks/data_table.ipynb>data table notebook</a>'\n",
              "            + ' to learn more about interactive tables.';\n",
              "          element.innerHTML = '';\n",
              "          dataTable['output_type'] = 'display_data';\n",
              "          await google.colab.output.renderOutput(dataTable, element);\n",
              "          const docLink = document.createElement('div');\n",
              "          docLink.innerHTML = docLinkHtml;\n",
              "          element.appendChild(docLink);\n",
              "        }\n",
              "      </script>\n",
              "    </div>\n",
              "  </div>\n",
              "  "
            ]
          },
          "metadata": {},
          "execution_count": 68
        }
      ]
    },
    {
      "cell_type": "markdown",
      "source": [
        "Using the ```head``` method, we see that there are 74 columns in this dataset characterizing different metrics for greenhouse gas emissions. We also see that the first country listed in the dataset is Afghanistan, and the first year listed is 1850."
      ],
      "metadata": {
        "id": "1dYQOcURqZ8t"
      }
    },
    {
      "cell_type": "markdown",
      "source": [
        "##### $\\rightarrow$ Use the `info` method further explore the data.\n",
        "1.  Are there any columns where the data type is obviously incorrect? For example, is there a variable that should be a number, but is coded as a string?\n",
        "2.  Do any of the columns have missing (null) values?"
      ],
      "metadata": {
        "id": "1HQFuZbmNCfO"
      }
    },
    {
      "cell_type": "markdown",
      "source": [
        "##### Solution"
      ],
      "metadata": {
        "id": "Kt-vodi7OoKB"
      }
    },
    {
      "cell_type": "markdown",
      "source": [
        "We use the ```info``` method to display information on the data columns."
      ],
      "metadata": {
        "id": "CVMNQjJYsQkS"
      }
    },
    {
      "cell_type": "code",
      "source": [
        "df.info()"
      ],
      "metadata": {
        "colab": {
          "base_uri": "https://localhost:8080/"
        },
        "id": "1-TMJW9irAaE",
        "outputId": "b033dff3-88b6-4912-f7e0-2d1f12142d43"
      },
      "execution_count": 69,
      "outputs": [
        {
          "output_type": "stream",
          "name": "stdout",
          "text": [
            "<class 'pandas.core.frame.DataFrame'>\n",
            "Int64Index: 39638 entries, 0 to 46522\n",
            "Data columns (total 74 columns):\n",
            " #   Column                                     Non-Null Count  Dtype  \n",
            "---  ------                                     --------------  -----  \n",
            " 0   country                                    39638 non-null  object \n",
            " 1   year                                       39638 non-null  int64  \n",
            " 2   iso_code                                   39251 non-null  object \n",
            " 3   population                                 36053 non-null  float64\n",
            " 4   gdp                                        14535 non-null  float64\n",
            " 5   cement_co2                                 20333 non-null  float64\n",
            " 6   cement_co2_per_capita                      19018 non-null  float64\n",
            " 7   co2                                        24464 non-null  float64\n",
            " 8   co2_growth_abs                             23971 non-null  float64\n",
            " 9   co2_growth_prct                            21484 non-null  float64\n",
            " 10  co2_including_luc                          21122 non-null  float64\n",
            " 11  co2_including_luc_growth_abs               20839 non-null  float64\n",
            " 12  co2_including_luc_growth_prct              21191 non-null  float64\n",
            " 13  co2_including_luc_per_capita               20780 non-null  float64\n",
            " 14  co2_including_luc_per_gdp                  13384 non-null  float64\n",
            " 15  co2_including_luc_per_unit_energy          8593 non-null   float64\n",
            " 16  co2_per_capita                             23037 non-null  float64\n",
            " 17  co2_per_gdp                                13644 non-null  float64\n",
            " 18  co2_per_unit_energy                        9079 non-null   float64\n",
            " 19  coal_co2                                   21573 non-null  float64\n",
            " 20  coal_co2_per_capita                        21186 non-null  float64\n",
            " 21  consumption_co2                            3730 non-null   float64\n",
            " 22  consumption_co2_per_capita                 3730 non-null   float64\n",
            " 23  consumption_co2_per_gdp                    3457 non-null   float64\n",
            " 24  cumulative_cement_co2                      20232 non-null  float64\n",
            " 25  cumulative_co2                             24363 non-null  float64\n",
            " 26  cumulative_co2_including_luc               21122 non-null  float64\n",
            " 27  cumulative_coal_co2                        21472 non-null  float64\n",
            " 28  cumulative_flaring_co2                     21478 non-null  float64\n",
            " 29  cumulative_gas_co2                         21478 non-null  float64\n",
            " 30  cumulative_luc_co2                         36292 non-null  float64\n",
            " 31  cumulative_oil_co2                         21478 non-null  float64\n",
            " 32  cumulative_other_co2                       1620 non-null   float64\n",
            " 33  energy_per_capita                          9354 non-null   float64\n",
            " 34  energy_per_gdp                             7151 non-null   float64\n",
            " 35  flaring_co2                                21579 non-null  float64\n",
            " 36  flaring_co2_per_capita                     21192 non-null  float64\n",
            " 37  gas_co2                                    21579 non-null  float64\n",
            " 38  gas_co2_per_capita                         21192 non-null  float64\n",
            " 39  ghg_excluding_lucf_per_capita              5819 non-null   float64\n",
            " 40  ghg_per_capita                             5819 non-null   float64\n",
            " 41  land_use_change_co2                        36292 non-null  float64\n",
            " 42  land_use_change_co2_per_capita             33110 non-null  float64\n",
            " 43  methane                                    5820 non-null   float64\n",
            " 44  methane_per_capita                         5820 non-null   float64\n",
            " 45  nitrous_oxide                              5820 non-null   float64\n",
            " 46  nitrous_oxide_per_capita                   5820 non-null   float64\n",
            " 47  oil_co2                                    21579 non-null  float64\n",
            " 48  oil_co2_per_capita                         21192 non-null  float64\n",
            " 49  other_co2_per_capita                       1620 non-null   float64\n",
            " 50  other_industry_co2                         1620 non-null   float64\n",
            " 51  primary_energy_consumption                 9395 non-null   float64\n",
            " 52  share_global_cement_co2                    18207 non-null  float64\n",
            " 53  share_global_co2                           24363 non-null  float64\n",
            " 54  share_global_co2_including_luc             21122 non-null  float64\n",
            " 55  share_global_coal_co2                      21472 non-null  float64\n",
            " 56  share_global_cumulative_cement_co2         18207 non-null  float64\n",
            " 57  share_global_cumulative_co2                24363 non-null  float64\n",
            " 58  share_global_cumulative_co2_including_luc  21122 non-null  float64\n",
            " 59  share_global_cumulative_coal_co2           21472 non-null  float64\n",
            " 60  share_global_cumulative_flaring_co2        14657 non-null  float64\n",
            " 61  share_global_cumulative_gas_co2            19610 non-null  float64\n",
            " 62  share_global_cumulative_luc_co2            36292 non-null  float64\n",
            " 63  share_global_cumulative_oil_co2            20626 non-null  float64\n",
            " 64  share_global_cumulative_other_co2          1620 non-null   float64\n",
            " 65  share_global_flaring_co2                   14657 non-null  float64\n",
            " 66  share_global_gas_co2                       19610 non-null  float64\n",
            " 67  share_global_luc_co2                       36292 non-null  float64\n",
            " 68  share_global_oil_co2                       20626 non-null  float64\n",
            " 69  share_global_other_co2                     1620 non-null   float64\n",
            " 70  total_ghg                                  5819 non-null   float64\n",
            " 71  total_ghg_excluding_lucf                   5819 non-null   float64\n",
            " 72  trade_co2                                  3730 non-null   float64\n",
            " 73  trade_co2_share                            3729 non-null   float64\n",
            "dtypes: float64(71), int64(1), object(2)\n",
            "memory usage: 22.7+ MB\n"
          ]
        }
      ]
    },
    {
      "cell_type": "markdown",
      "source": [
        "Using the ```info``` method, we are able to evaluate how many non-null entries are in each column, and the type of data each variable is coded as.\n",
        "\n",
        "No, there are not any columns where the data type is obviously incorrect. All variables that should be numbers are coded either as int64 or float64 types, and all variables that should be strings are coded as object types.\n",
        "\n",
        "Yes, some columns have missing values. The highest count is 39,638 for year and country. All other metrics fall somewhere below that number, meaning that somewhere there are missing values for those columns."
      ],
      "metadata": {
        "id": "AnrYa3qzrFbB"
      }
    },
    {
      "cell_type": "markdown",
      "source": [
        "##### $\\rightarrow$ What years are present in the data set?"
      ],
      "metadata": {
        "id": "f89ETnavWcPa"
      }
    },
    {
      "cell_type": "markdown",
      "source": [
        "##### Solution"
      ],
      "metadata": {
        "id": "yUQLOAJrXGNk"
      }
    },
    {
      "cell_type": "markdown",
      "source": [
        "We use the ```loc``` method with respect to the ```year``` column to display all years that are present in the data set."
      ],
      "metadata": {
        "id": "kJJGzzCJslJ2"
      }
    },
    {
      "cell_type": "code",
      "source": [
        "df.loc[:,\"year\"]"
      ],
      "metadata": {
        "colab": {
          "base_uri": "https://localhost:8080/"
        },
        "id": "uRVecIm8sh93",
        "outputId": "6c735e86-968f-4ee3-d753-a5d936761599"
      },
      "execution_count": 70,
      "outputs": [
        {
          "output_type": "execute_result",
          "data": {
            "text/plain": [
              "0        1850\n",
              "1        1851\n",
              "2        1852\n",
              "3        1853\n",
              "4        1854\n",
              "         ... \n",
              "46518    2017\n",
              "46519    2018\n",
              "46520    2019\n",
              "46521    2020\n",
              "46522    2021\n",
              "Name: year, Length: 39638, dtype: int64"
            ]
          },
          "metadata": {},
          "execution_count": 70
        }
      ]
    },
    {
      "cell_type": "markdown",
      "source": [
        "Years from 1850 to 2021 are present in the data."
      ],
      "metadata": {
        "id": "4hyb_9Wasvee"
      }
    },
    {
      "cell_type": "markdown",
      "source": [
        "## Analysis of top emissions in 2020"
      ],
      "metadata": {
        "id": "GmVvf18573HS"
      }
    },
    {
      "cell_type": "markdown",
      "metadata": {
        "id": "2kwe790ATm0S"
      },
      "source": [
        "##### $\\rightarrow$ Find the top 10 emitters of total CO$_2$ in 2020.\n",
        "\n"
      ]
    },
    {
      "cell_type": "markdown",
      "source": [
        "##### Solution"
      ],
      "metadata": {
        "id": "aCS-tOXPZC4W"
      }
    },
    {
      "cell_type": "markdown",
      "source": [
        "We use the ```loc``` method to first define a dataset of all ```co2``` emissions in 2020, and we label this dataset ```co2_2020```. \n",
        "\n",
        "Then, we use the ```nlargest``` method to define a dataset of the top 10 largest values for CO$_2$ in 2020 from the ```co2_2020``` dataset. We label this dataset ```top10co2_2020```. \n",
        "\n",
        "Printing the ```top10co2_2020``` dataset and looking at the ```country``` column, we are able to determine the 10 countries responsible for the highest CO$_2$ emissions in 2020."
      ],
      "metadata": {
        "id": "AkE9hmb1tDsW"
      }
    },
    {
      "cell_type": "code",
      "source": [
        "co2_2020 = df.loc[df['year'] == 2020] ##define a dataset of co2 emissions in 2020"
      ],
      "metadata": {
        "id": "Pk9dKwP3s7vU"
      },
      "execution_count": 71,
      "outputs": []
    },
    {
      "cell_type": "code",
      "source": [
        "top10co2_2020 = co2_2020.nlargest(10, ['co2']) ##define a dataset of top 10 co2 emissions in 2020"
      ],
      "metadata": {
        "id": "4hLLpijQvgVf"
      },
      "execution_count": 72,
      "outputs": []
    },
    {
      "cell_type": "code",
      "source": [
        "top10co2_2020"
      ],
      "metadata": {
        "colab": {
          "base_uri": "https://localhost:8080/",
          "height": 508
        },
        "id": "LvRQW3G4viTh",
        "outputId": "e825cf42-4203-4135-d30e-9505ca2ce7b0"
      },
      "execution_count": 73,
      "outputs": [
        {
          "output_type": "execute_result",
          "data": {
            "text/plain": [
              "             country  year iso_code    population  gdp  cement_co2  \\\n",
              "8989           China  2020      CHN  1.424930e+09  NaN     858.233   \n",
              "44221  United States  2020      USA  3.359420e+08  NaN      40.688   \n",
              "20136          India  2020      IND  1.396387e+09  NaN     122.908   \n",
              "35053         Russia  2020      RUS  1.456173e+08  NaN      20.581   \n",
              "21756          Japan  2020      JPN  1.252448e+08  NaN      24.490   \n",
              "20552           Iran  2020      IRN  8.729019e+07  NaN      23.855   \n",
              "36664   Saudi Arabia  2020      SAU  3.599711e+07  NaN      25.593   \n",
              "16794        Germany  2020      DEU  8.332899e+07  NaN      13.357   \n",
              "20308      Indonesia  2020      IDN  2.718580e+08  NaN      28.203   \n",
              "39259    South Korea  2020      KOR  5.184469e+07  NaN      22.866   \n",
              "\n",
              "       cement_co2_per_capita        co2  co2_growth_abs  co2_growth_prct  ...  \\\n",
              "8989                   0.602  10956.213         215.217            2.004  ...   \n",
              "44221                  0.121   4715.691        -543.453          -10.333  ...   \n",
              "20136                  0.088   2445.012        -181.447           -6.908  ...   \n",
              "35053                  0.141   1624.221         -68.142           -4.026  ...   \n",
              "21756                  0.196   1042.224         -63.791           -5.768  ...   \n",
              "20552                  0.273    729.978          27.020            3.844  ...   \n",
              "36664                  0.711    661.193           4.711            0.718  ...   \n",
              "16794                  0.160    639.381         -67.769           -9.583  ...   \n",
              "20308                  0.104    609.786         -49.650           -7.529  ...   \n",
              "39259                  0.441    597.634         -48.468           -7.502  ...   \n",
              "\n",
              "       share_global_cumulative_other_co2  share_global_flaring_co2  \\\n",
              "8989                              50.362                     1.256   \n",
              "44221                             14.933                    16.606   \n",
              "20136                                NaN                     0.688   \n",
              "35053                              5.754                    14.456   \n",
              "21756                              3.107                     0.085   \n",
              "20552                                NaN                     6.115   \n",
              "36664                                NaN                     1.044   \n",
              "16794                              3.054                     0.445   \n",
              "20308                                NaN                     0.865   \n",
              "39259                              2.155                     0.000   \n",
              "\n",
              "       share_global_gas_co2  share_global_luc_co2  share_global_oil_co2  \\\n",
              "8989                  9.103                 7.270                14.544   \n",
              "44221                21.885                 2.582                18.311   \n",
              "20136                 1.689                 2.680                 5.393   \n",
              "35053                10.333                10.591                 3.403   \n",
              "21756                 2.946                 0.038                 3.466   \n",
              "20552                 6.005                -0.576                 1.999   \n",
              "36664                 3.445                 0.052                 3.315   \n",
              "16794                 2.218                -0.174                 2.246   \n",
              "20308                 0.992                25.370                 1.810   \n",
              "39259                 1.544                -0.156                 1.475   \n",
              "\n",
              "       share_global_other_co2  total_ghg  total_ghg_excluding_lucf  trade_co2  \\\n",
              "8989                   57.893        NaN                       NaN   -922.811   \n",
              "44221                   8.549        NaN                       NaN    481.706   \n",
              "20136                     NaN        NaN                       NaN   -168.131   \n",
              "35053                   5.517        NaN                       NaN   -264.073   \n",
              "21756                   2.551        NaN                       NaN    144.917   \n",
              "20552                     NaN        NaN                       NaN    -71.532   \n",
              "36664                     NaN        NaN                       NaN     -3.249   \n",
              "16794                   2.646        NaN                       NaN    130.111   \n",
              "20308                     NaN        NaN                       NaN     14.441   \n",
              "39259                   3.437        NaN                       NaN     61.863   \n",
              "\n",
              "       trade_co2_share  \n",
              "8989            -8.423  \n",
              "44221           10.215  \n",
              "20136           -6.877  \n",
              "35053          -16.258  \n",
              "21756           13.905  \n",
              "20552           -9.799  \n",
              "36664           -0.491  \n",
              "16794           20.350  \n",
              "20308            2.368  \n",
              "39259           10.351  \n",
              "\n",
              "[10 rows x 74 columns]"
            ],
            "text/html": [
              "\n",
              "  <div id=\"df-511e72ad-ec21-40d8-92fd-6e97d23a8867\">\n",
              "    <div class=\"colab-df-container\">\n",
              "      <div>\n",
              "<style scoped>\n",
              "    .dataframe tbody tr th:only-of-type {\n",
              "        vertical-align: middle;\n",
              "    }\n",
              "\n",
              "    .dataframe tbody tr th {\n",
              "        vertical-align: top;\n",
              "    }\n",
              "\n",
              "    .dataframe thead th {\n",
              "        text-align: right;\n",
              "    }\n",
              "</style>\n",
              "<table border=\"1\" class=\"dataframe\">\n",
              "  <thead>\n",
              "    <tr style=\"text-align: right;\">\n",
              "      <th></th>\n",
              "      <th>country</th>\n",
              "      <th>year</th>\n",
              "      <th>iso_code</th>\n",
              "      <th>population</th>\n",
              "      <th>gdp</th>\n",
              "      <th>cement_co2</th>\n",
              "      <th>cement_co2_per_capita</th>\n",
              "      <th>co2</th>\n",
              "      <th>co2_growth_abs</th>\n",
              "      <th>co2_growth_prct</th>\n",
              "      <th>...</th>\n",
              "      <th>share_global_cumulative_other_co2</th>\n",
              "      <th>share_global_flaring_co2</th>\n",
              "      <th>share_global_gas_co2</th>\n",
              "      <th>share_global_luc_co2</th>\n",
              "      <th>share_global_oil_co2</th>\n",
              "      <th>share_global_other_co2</th>\n",
              "      <th>total_ghg</th>\n",
              "      <th>total_ghg_excluding_lucf</th>\n",
              "      <th>trade_co2</th>\n",
              "      <th>trade_co2_share</th>\n",
              "    </tr>\n",
              "  </thead>\n",
              "  <tbody>\n",
              "    <tr>\n",
              "      <th>8989</th>\n",
              "      <td>China</td>\n",
              "      <td>2020</td>\n",
              "      <td>CHN</td>\n",
              "      <td>1.424930e+09</td>\n",
              "      <td>NaN</td>\n",
              "      <td>858.233</td>\n",
              "      <td>0.602</td>\n",
              "      <td>10956.213</td>\n",
              "      <td>215.217</td>\n",
              "      <td>2.004</td>\n",
              "      <td>...</td>\n",
              "      <td>50.362</td>\n",
              "      <td>1.256</td>\n",
              "      <td>9.103</td>\n",
              "      <td>7.270</td>\n",
              "      <td>14.544</td>\n",
              "      <td>57.893</td>\n",
              "      <td>NaN</td>\n",
              "      <td>NaN</td>\n",
              "      <td>-922.811</td>\n",
              "      <td>-8.423</td>\n",
              "    </tr>\n",
              "    <tr>\n",
              "      <th>44221</th>\n",
              "      <td>United States</td>\n",
              "      <td>2020</td>\n",
              "      <td>USA</td>\n",
              "      <td>3.359420e+08</td>\n",
              "      <td>NaN</td>\n",
              "      <td>40.688</td>\n",
              "      <td>0.121</td>\n",
              "      <td>4715.691</td>\n",
              "      <td>-543.453</td>\n",
              "      <td>-10.333</td>\n",
              "      <td>...</td>\n",
              "      <td>14.933</td>\n",
              "      <td>16.606</td>\n",
              "      <td>21.885</td>\n",
              "      <td>2.582</td>\n",
              "      <td>18.311</td>\n",
              "      <td>8.549</td>\n",
              "      <td>NaN</td>\n",
              "      <td>NaN</td>\n",
              "      <td>481.706</td>\n",
              "      <td>10.215</td>\n",
              "    </tr>\n",
              "    <tr>\n",
              "      <th>20136</th>\n",
              "      <td>India</td>\n",
              "      <td>2020</td>\n",
              "      <td>IND</td>\n",
              "      <td>1.396387e+09</td>\n",
              "      <td>NaN</td>\n",
              "      <td>122.908</td>\n",
              "      <td>0.088</td>\n",
              "      <td>2445.012</td>\n",
              "      <td>-181.447</td>\n",
              "      <td>-6.908</td>\n",
              "      <td>...</td>\n",
              "      <td>NaN</td>\n",
              "      <td>0.688</td>\n",
              "      <td>1.689</td>\n",
              "      <td>2.680</td>\n",
              "      <td>5.393</td>\n",
              "      <td>NaN</td>\n",
              "      <td>NaN</td>\n",
              "      <td>NaN</td>\n",
              "      <td>-168.131</td>\n",
              "      <td>-6.877</td>\n",
              "    </tr>\n",
              "    <tr>\n",
              "      <th>35053</th>\n",
              "      <td>Russia</td>\n",
              "      <td>2020</td>\n",
              "      <td>RUS</td>\n",
              "      <td>1.456173e+08</td>\n",
              "      <td>NaN</td>\n",
              "      <td>20.581</td>\n",
              "      <td>0.141</td>\n",
              "      <td>1624.221</td>\n",
              "      <td>-68.142</td>\n",
              "      <td>-4.026</td>\n",
              "      <td>...</td>\n",
              "      <td>5.754</td>\n",
              "      <td>14.456</td>\n",
              "      <td>10.333</td>\n",
              "      <td>10.591</td>\n",
              "      <td>3.403</td>\n",
              "      <td>5.517</td>\n",
              "      <td>NaN</td>\n",
              "      <td>NaN</td>\n",
              "      <td>-264.073</td>\n",
              "      <td>-16.258</td>\n",
              "    </tr>\n",
              "    <tr>\n",
              "      <th>21756</th>\n",
              "      <td>Japan</td>\n",
              "      <td>2020</td>\n",
              "      <td>JPN</td>\n",
              "      <td>1.252448e+08</td>\n",
              "      <td>NaN</td>\n",
              "      <td>24.490</td>\n",
              "      <td>0.196</td>\n",
              "      <td>1042.224</td>\n",
              "      <td>-63.791</td>\n",
              "      <td>-5.768</td>\n",
              "      <td>...</td>\n",
              "      <td>3.107</td>\n",
              "      <td>0.085</td>\n",
              "      <td>2.946</td>\n",
              "      <td>0.038</td>\n",
              "      <td>3.466</td>\n",
              "      <td>2.551</td>\n",
              "      <td>NaN</td>\n",
              "      <td>NaN</td>\n",
              "      <td>144.917</td>\n",
              "      <td>13.905</td>\n",
              "    </tr>\n",
              "    <tr>\n",
              "      <th>20552</th>\n",
              "      <td>Iran</td>\n",
              "      <td>2020</td>\n",
              "      <td>IRN</td>\n",
              "      <td>8.729019e+07</td>\n",
              "      <td>NaN</td>\n",
              "      <td>23.855</td>\n",
              "      <td>0.273</td>\n",
              "      <td>729.978</td>\n",
              "      <td>27.020</td>\n",
              "      <td>3.844</td>\n",
              "      <td>...</td>\n",
              "      <td>NaN</td>\n",
              "      <td>6.115</td>\n",
              "      <td>6.005</td>\n",
              "      <td>-0.576</td>\n",
              "      <td>1.999</td>\n",
              "      <td>NaN</td>\n",
              "      <td>NaN</td>\n",
              "      <td>NaN</td>\n",
              "      <td>-71.532</td>\n",
              "      <td>-9.799</td>\n",
              "    </tr>\n",
              "    <tr>\n",
              "      <th>36664</th>\n",
              "      <td>Saudi Arabia</td>\n",
              "      <td>2020</td>\n",
              "      <td>SAU</td>\n",
              "      <td>3.599711e+07</td>\n",
              "      <td>NaN</td>\n",
              "      <td>25.593</td>\n",
              "      <td>0.711</td>\n",
              "      <td>661.193</td>\n",
              "      <td>4.711</td>\n",
              "      <td>0.718</td>\n",
              "      <td>...</td>\n",
              "      <td>NaN</td>\n",
              "      <td>1.044</td>\n",
              "      <td>3.445</td>\n",
              "      <td>0.052</td>\n",
              "      <td>3.315</td>\n",
              "      <td>NaN</td>\n",
              "      <td>NaN</td>\n",
              "      <td>NaN</td>\n",
              "      <td>-3.249</td>\n",
              "      <td>-0.491</td>\n",
              "    </tr>\n",
              "    <tr>\n",
              "      <th>16794</th>\n",
              "      <td>Germany</td>\n",
              "      <td>2020</td>\n",
              "      <td>DEU</td>\n",
              "      <td>8.332899e+07</td>\n",
              "      <td>NaN</td>\n",
              "      <td>13.357</td>\n",
              "      <td>0.160</td>\n",
              "      <td>639.381</td>\n",
              "      <td>-67.769</td>\n",
              "      <td>-9.583</td>\n",
              "      <td>...</td>\n",
              "      <td>3.054</td>\n",
              "      <td>0.445</td>\n",
              "      <td>2.218</td>\n",
              "      <td>-0.174</td>\n",
              "      <td>2.246</td>\n",
              "      <td>2.646</td>\n",
              "      <td>NaN</td>\n",
              "      <td>NaN</td>\n",
              "      <td>130.111</td>\n",
              "      <td>20.350</td>\n",
              "    </tr>\n",
              "    <tr>\n",
              "      <th>20308</th>\n",
              "      <td>Indonesia</td>\n",
              "      <td>2020</td>\n",
              "      <td>IDN</td>\n",
              "      <td>2.718580e+08</td>\n",
              "      <td>NaN</td>\n",
              "      <td>28.203</td>\n",
              "      <td>0.104</td>\n",
              "      <td>609.786</td>\n",
              "      <td>-49.650</td>\n",
              "      <td>-7.529</td>\n",
              "      <td>...</td>\n",
              "      <td>NaN</td>\n",
              "      <td>0.865</td>\n",
              "      <td>0.992</td>\n",
              "      <td>25.370</td>\n",
              "      <td>1.810</td>\n",
              "      <td>NaN</td>\n",
              "      <td>NaN</td>\n",
              "      <td>NaN</td>\n",
              "      <td>14.441</td>\n",
              "      <td>2.368</td>\n",
              "    </tr>\n",
              "    <tr>\n",
              "      <th>39259</th>\n",
              "      <td>South Korea</td>\n",
              "      <td>2020</td>\n",
              "      <td>KOR</td>\n",
              "      <td>5.184469e+07</td>\n",
              "      <td>NaN</td>\n",
              "      <td>22.866</td>\n",
              "      <td>0.441</td>\n",
              "      <td>597.634</td>\n",
              "      <td>-48.468</td>\n",
              "      <td>-7.502</td>\n",
              "      <td>...</td>\n",
              "      <td>2.155</td>\n",
              "      <td>0.000</td>\n",
              "      <td>1.544</td>\n",
              "      <td>-0.156</td>\n",
              "      <td>1.475</td>\n",
              "      <td>3.437</td>\n",
              "      <td>NaN</td>\n",
              "      <td>NaN</td>\n",
              "      <td>61.863</td>\n",
              "      <td>10.351</td>\n",
              "    </tr>\n",
              "  </tbody>\n",
              "</table>\n",
              "<p>10 rows × 74 columns</p>\n",
              "</div>\n",
              "      <button class=\"colab-df-convert\" onclick=\"convertToInteractive('df-511e72ad-ec21-40d8-92fd-6e97d23a8867')\"\n",
              "              title=\"Convert this dataframe to an interactive table.\"\n",
              "              style=\"display:none;\">\n",
              "        \n",
              "  <svg xmlns=\"http://www.w3.org/2000/svg\" height=\"24px\"viewBox=\"0 0 24 24\"\n",
              "       width=\"24px\">\n",
              "    <path d=\"M0 0h24v24H0V0z\" fill=\"none\"/>\n",
              "    <path d=\"M18.56 5.44l.94 2.06.94-2.06 2.06-.94-2.06-.94-.94-2.06-.94 2.06-2.06.94zm-11 1L8.5 8.5l.94-2.06 2.06-.94-2.06-.94L8.5 2.5l-.94 2.06-2.06.94zm10 10l.94 2.06.94-2.06 2.06-.94-2.06-.94-.94-2.06-.94 2.06-2.06.94z\"/><path d=\"M17.41 7.96l-1.37-1.37c-.4-.4-.92-.59-1.43-.59-.52 0-1.04.2-1.43.59L10.3 9.45l-7.72 7.72c-.78.78-.78 2.05 0 2.83L4 21.41c.39.39.9.59 1.41.59.51 0 1.02-.2 1.41-.59l7.78-7.78 2.81-2.81c.8-.78.8-2.07 0-2.86zM5.41 20L4 18.59l7.72-7.72 1.47 1.35L5.41 20z\"/>\n",
              "  </svg>\n",
              "      </button>\n",
              "      \n",
              "  <style>\n",
              "    .colab-df-container {\n",
              "      display:flex;\n",
              "      flex-wrap:wrap;\n",
              "      gap: 12px;\n",
              "    }\n",
              "\n",
              "    .colab-df-convert {\n",
              "      background-color: #E8F0FE;\n",
              "      border: none;\n",
              "      border-radius: 50%;\n",
              "      cursor: pointer;\n",
              "      display: none;\n",
              "      fill: #1967D2;\n",
              "      height: 32px;\n",
              "      padding: 0 0 0 0;\n",
              "      width: 32px;\n",
              "    }\n",
              "\n",
              "    .colab-df-convert:hover {\n",
              "      background-color: #E2EBFA;\n",
              "      box-shadow: 0px 1px 2px rgba(60, 64, 67, 0.3), 0px 1px 3px 1px rgba(60, 64, 67, 0.15);\n",
              "      fill: #174EA6;\n",
              "    }\n",
              "\n",
              "    [theme=dark] .colab-df-convert {\n",
              "      background-color: #3B4455;\n",
              "      fill: #D2E3FC;\n",
              "    }\n",
              "\n",
              "    [theme=dark] .colab-df-convert:hover {\n",
              "      background-color: #434B5C;\n",
              "      box-shadow: 0px 1px 3px 1px rgba(0, 0, 0, 0.15);\n",
              "      filter: drop-shadow(0px 1px 2px rgba(0, 0, 0, 0.3));\n",
              "      fill: #FFFFFF;\n",
              "    }\n",
              "  </style>\n",
              "\n",
              "      <script>\n",
              "        const buttonEl =\n",
              "          document.querySelector('#df-511e72ad-ec21-40d8-92fd-6e97d23a8867 button.colab-df-convert');\n",
              "        buttonEl.style.display =\n",
              "          google.colab.kernel.accessAllowed ? 'block' : 'none';\n",
              "\n",
              "        async function convertToInteractive(key) {\n",
              "          const element = document.querySelector('#df-511e72ad-ec21-40d8-92fd-6e97d23a8867');\n",
              "          const dataTable =\n",
              "            await google.colab.kernel.invokeFunction('convertToInteractive',\n",
              "                                                     [key], {});\n",
              "          if (!dataTable) return;\n",
              "\n",
              "          const docLinkHtml = 'Like what you see? Visit the ' +\n",
              "            '<a target=\"_blank\" href=https://colab.research.google.com/notebooks/data_table.ipynb>data table notebook</a>'\n",
              "            + ' to learn more about interactive tables.';\n",
              "          element.innerHTML = '';\n",
              "          dataTable['output_type'] = 'display_data';\n",
              "          await google.colab.output.renderOutput(dataTable, element);\n",
              "          const docLink = document.createElement('div');\n",
              "          docLink.innerHTML = docLinkHtml;\n",
              "          element.appendChild(docLink);\n",
              "        }\n",
              "      </script>\n",
              "    </div>\n",
              "  </div>\n",
              "  "
            ]
          },
          "metadata": {},
          "execution_count": 73
        }
      ]
    },
    {
      "cell_type": "markdown",
      "source": [
        "From the ```top10co2_2020``` dataset, we can see that the top 10 emitters of total CO$_2$ are China, United States, India, Russia, Japan, Iran, Saudi Arabia, Germany, Indonesia, and South Korea."
      ],
      "metadata": {
        "id": "Js8sKSyfv-q2"
      }
    },
    {
      "cell_type": "markdown",
      "source": [
        "##### $\\rightarrow$ Make a histogram of total CO$_2$ emissions in 2020. Make the plot on a density scale."
      ],
      "metadata": {
        "id": "Efky-9yTe3lG"
      }
    },
    {
      "cell_type": "markdown",
      "source": [
        "##### Solution"
      ],
      "metadata": {
        "id": "8A_SQ6jblun4"
      }
    },
    {
      "cell_type": "markdown",
      "source": [
        "We use the ```histplot``` method from seaborn to plot a histogram of total CO$_2$ emissions in 2020. We use ```stat = 'density'``` to make the plot on a density scale."
      ],
      "metadata": {
        "id": "p-YOkBEZwptL"
      }
    },
    {
      "cell_type": "code",
      "source": [
        "# Set the figure size\n",
        "plt.figure(figsize = (8,6))\n",
        "\n",
        "# Produce the histogram\n",
        "sns.histplot(data = df[df['year'] == 2020], x = 'co2', \n",
        "             bins = np.r_[np.linspace(0, 5, 5), 10], color = 'dodgerblue', alpha = 0.7, stat = 'density')\n",
        "\n",
        "# Label the axes\n",
        "plt.ylabel('Density',fontsize = 20)\n",
        "plt.xlabel('Total CO$_2$ Emissions in 2020 (million tonnes)',fontsize = 20)\n",
        "\n",
        "# Set sizes of tick labels\n",
        "plt.tick_params(labelsize = 16);"
      ],
      "metadata": {
        "colab": {
          "base_uri": "https://localhost:8080/",
          "height": 565
        },
        "id": "kYnusWzAwcIJ",
        "outputId": "143bfd9f-c52a-4787-d039-2b56ce3de054"
      },
      "execution_count": 74,
      "outputs": [
        {
          "output_type": "display_data",
          "data": {
            "text/plain": [
              "<Figure size 800x600 with 1 Axes>"
            ],
            "image/png": "[encoded data removed]"
          },
          "metadata": {}
        }
      ]
    },
    {
      "cell_type": "markdown",
      "source": [
        "Using the ```histplot``` method, we produce a histogram on a density scale that shows CO$_2$ emissions in 2020 per country. The histogram shows us that the vast majority of CO$_2$ emissions in 2020 were between 0-2,000 million tonnes. The maximum amount of CO$_2$ emissions produced by a country in 2020 was somewhere around 10,000 million tonnes."
      ],
      "metadata": {
        "id": "0NNL7EiNxFqh"
      }
    },
    {
      "cell_type": "markdown",
      "source": [
        "##### $\\rightarrow$ Make a boxplot of total CO$_2$ emissions in 2020. Add a strip plot on top of the boxplot."
      ],
      "metadata": {
        "id": "celYP5XTeWqF"
      }
    },
    {
      "cell_type": "markdown",
      "source": [
        "##### Solution"
      ],
      "metadata": {
        "id": "hIVTfC9AlvOg"
      }
    },
    {
      "cell_type": "markdown",
      "source": [
        "We use the ```boxplot``` and ```stripplot``` method from seaborn to plot total CO$_2$ emissions in 2020. We exclude outliers from the boxplot."
      ],
      "metadata": {
        "id": "afzb5j4FyzkU"
      }
    },
    {
      "cell_type": "code",
      "source": [
        "# Figure size\n",
        "plt.figure(figsize = (15,5))\n",
        "\n",
        "# Use Seaborn to make the boxplot, but don't show outliers (fliersize = 0)\n",
        "sns.boxplot(data = df[df['year'] == 2020], x = 'co2', color = 'dodgerblue', width = 0.5, fliersize = 0)\n",
        "\n",
        "# Use Seaborn to make the swarm plot\n",
        "sns.stripplot(data = df[df['year'] == 2020], x = 'co2', color = 'orange', size = 6, alpha = 0.6)\n",
        "\n",
        "# Label axes\n",
        "plt.xlabel('Total CO$_2$ Emissions (million tonnes)', fontsize = 20)\n",
        "\n",
        "# Set sizes of tick labels\n",
        "plt.tick_params(labelsize = 16);"
      ],
      "metadata": {
        "colab": {
          "base_uri": "https://localhost:8080/",
          "height": 479
        },
        "id": "6-Rwq6ZQygyT",
        "outputId": "c7d7f38c-112c-497e-91c2-74f27d1cd2ca"
      },
      "execution_count": 75,
      "outputs": [
        {
          "output_type": "display_data",
          "data": {
            "text/plain": [
              "<Figure size 1500x500 with 1 Axes>"
            ],
            "image/png": "[encoded data removed]"
          },
          "metadata": {}
        }
      ]
    },
    {
      "cell_type": "markdown",
      "source": [
        "##### $\\rightarrow$ Are the CO$_2$ emissions of the top 10 emitters in 2020 outliers in the distribution?"
      ],
      "metadata": {
        "id": "_c8wgaqjttmv"
      }
    },
    {
      "cell_type": "markdown",
      "source": [
        "##### Solution"
      ],
      "metadata": {
        "id": "su0jIszbt5GJ"
      }
    },
    {
      "cell_type": "markdown",
      "source": [
        "The boxplot and strip plot show us that the vast majority of CO$_2$ emissions are close to 0. The emissions of the top 10 emitters in 2020, particularly the top 5, are strong outliers in the distribution, as made evident by the boxplot and strip plot. As indicated previously by the histogram, the highest amount of CO$_2$ emissions is about 10,000 million tonnes, making China an extreme outlier."
      ],
      "metadata": {
        "id": "vZL719XAzX8j"
      }
    },
    {
      "cell_type": "markdown",
      "source": [
        "## Emission trend over time"
      ],
      "metadata": {
        "id": "O54iekf42lUR"
      }
    },
    {
      "cell_type": "markdown",
      "source": [
        "##### $\\rightarrow$ Is the data set missing any CO$_2$ emission values for the top 10 emitters in 2020 over the years 1971 to 2020?"
      ],
      "metadata": {
        "id": "TCxt51aq2q2a"
      }
    },
    {
      "cell_type": "markdown",
      "source": [
        "##### Solution"
      ],
      "metadata": {
        "id": "kYwe4Fi42442"
      }
    },
    {
      "cell_type": "markdown",
      "source": [
        "We begin by defining a new dataset, ```df_1971_2020``` with the ```between``` method. This dataset includes all values from the dataframe between the years 1971 and 2020.\n",
        "\n",
        "Then, we define a dataset, ```top10_1971_2020``` for the top 10 emitters in 2020 over the years 1971 to 2020 by taking data from the previously defined ```df_1971_2020``` dataset for only the top 10 emitter countries. \n",
        "\n",
        "We print ```top10_1971_2020``` to ensure that it includes all values for the 10 countries over the span of 50 years - 500 rows in total.\n",
        "\n",
        "To further explore the new dataset, we use the ```info``` method with ```top10_1971_2020``` to see if there are any missing CO$_2$ values in this dataset."
      ],
      "metadata": {
        "id": "eMEyFKf43f5H"
      }
    },
    {
      "cell_type": "code",
      "source": [
        "df_1971_2020 = df[df['year'].between(1971, 2020)] ##define the dataset between the desired years 1971-2020"
      ],
      "metadata": {
        "id": "RqOrGQk123RT"
      },
      "execution_count": 76,
      "outputs": []
    },
    {
      "cell_type": "code",
      "source": [
        "top10_1971_2020 = df_1971_2020[df_1971_2020['country'].isin(['China', 'United States', 'India', 'Russia', 'Japan', 'Iran',\n",
        "       'Saudi Arabia', 'Germany', 'Indonesia', 'South Korea'])] ##define top 10 co2 emitters between years 1971-2020"
      ],
      "metadata": {
        "id": "jTOt4wHSfFAq"
      },
      "execution_count": 77,
      "outputs": []
    },
    {
      "cell_type": "code",
      "source": [
        "top10_1971_2020"
      ],
      "metadata": {
        "colab": {
          "base_uri": "https://localhost:8080/",
          "height": 574
        },
        "id": "xN_Cz7aAgO5S",
        "outputId": "f1465ca7-559d-4214-c8b6-2c70c8785808"
      },
      "execution_count": 78,
      "outputs": [
        {
          "output_type": "execute_result",
          "data": {
            "text/plain": [
              "             country  year iso_code   population           gdp  cement_co2  \\\n",
              "8940           China  1971      CHN  843285440.0  1.216238e+12      13.124   \n",
              "8941           China  1972      CHN  862840384.0  1.233565e+12      14.717   \n",
              "8942           China  1973      CHN  881652096.0  1.334375e+12      15.456   \n",
              "8943           China  1974      CHN  899367680.0  1.367632e+12      15.340   \n",
              "8944           China  1975      CHN  915124672.0  1.460734e+12      19.102   \n",
              "...              ...   ...      ...          ...           ...         ...   \n",
              "44217  United States  2016      USA  327210208.0  1.716256e+13      39.439   \n",
              "44218  United States  2017      USA  329791232.0  1.759628e+13      40.324   \n",
              "44219  United States  2018      USA  332140032.0  1.814065e+13      38.971   \n",
              "44220  United States  2019      USA  334319680.0           NaN      40.896   \n",
              "44221  United States  2020      USA  335942016.0           NaN      40.688   \n",
              "\n",
              "       cement_co2_per_capita       co2  co2_growth_abs  co2_growth_prct  ...  \\\n",
              "8940                   0.016   909.210         101.257           12.533  ...   \n",
              "8941                   0.017   968.646          59.436            6.537  ...   \n",
              "8942                   0.018  1008.293          39.647            4.093  ...   \n",
              "8943                   0.017  1028.100          19.807            1.964  ...   \n",
              "8944                   0.021  1183.215         155.115           15.088  ...   \n",
              "...                      ...       ...             ...              ...  ...   \n",
              "44217                  0.121  5251.757        -124.820           -2.322  ...   \n",
              "44218                  0.122  5210.958         -40.800           -0.777  ...   \n",
              "44219                  0.117  5376.657         165.700            3.180  ...   \n",
              "44220                  0.122  5259.144        -117.513           -2.186  ...   \n",
              "44221                  0.121  4715.691        -543.453          -10.333  ...   \n",
              "\n",
              "       share_global_cumulative_other_co2  share_global_flaring_co2  \\\n",
              "8940                              47.962                     0.246   \n",
              "8941                              49.688                     0.295   \n",
              "8942                              51.343                     0.314   \n",
              "8943                              52.784                     0.418   \n",
              "8944                              53.946                     0.566   \n",
              "...                                  ...                       ...   \n",
              "44217                             15.864                    14.418   \n",
              "44218                             15.627                    15.114   \n",
              "44219                             15.370                    17.662   \n",
              "44220                             15.141                    20.121   \n",
              "44221                             14.933                    16.606   \n",
              "\n",
              "       share_global_gas_co2  share_global_luc_co2  share_global_oil_co2  \\\n",
              "8940                  0.371                 9.174                 1.667   \n",
              "8941                  0.452                 9.700                 1.781   \n",
              "8942                  0.520                12.852                 1.931   \n",
              "8943                  0.639                10.267                 2.252   \n",
              "8944                  0.752                11.580                 2.540   \n",
              "...                     ...                   ...                   ...   \n",
              "44217                21.247                 1.354                19.125   \n",
              "44218                20.440                 1.522                18.907   \n",
              "44219                21.497                 1.936                19.283   \n",
              "44220                21.889                 2.071                19.107   \n",
              "44221                21.885                 2.582                18.311   \n",
              "\n",
              "       share_global_other_co2  total_ghg  total_ghg_excluding_lucf  trade_co2  \\\n",
              "8940                   70.766        NaN                       NaN        NaN   \n",
              "8941                   71.925        NaN                       NaN        NaN   \n",
              "8942                   72.721        NaN                       NaN        NaN   \n",
              "8943                   72.557        NaN                       NaN        NaN   \n",
              "8944                   72.942        NaN                       NaN        NaN   \n",
              "...                       ...        ...                       ...        ...   \n",
              "44217                   9.545    5743.85                   5974.20    412.188   \n",
              "44218                   9.210    5689.61                   5918.76    424.355   \n",
              "44219                   8.164    5892.37                   6121.63    428.020   \n",
              "44220                   8.580    5771.00                   6001.21    433.339   \n",
              "44221                   8.549        NaN                       NaN    481.706   \n",
              "\n",
              "       trade_co2_share  \n",
              "8940               NaN  \n",
              "8941               NaN  \n",
              "8942               NaN  \n",
              "8943               NaN  \n",
              "8944               NaN  \n",
              "...                ...  \n",
              "44217            7.849  \n",
              "44218            8.144  \n",
              "44219            7.961  \n",
              "44220            8.240  \n",
              "44221           10.215  \n",
              "\n",
              "[500 rows x 74 columns]"
            ],
            "text/html": [
              "\n",
              "  <div id=\"df-1b301dea-6249-4d4d-b736-8ceab9d20cca\">\n",
              "    <div class=\"colab-df-container\">\n",
              "      <div>\n",
              "<style scoped>\n",
              "    .dataframe tbody tr th:only-of-type {\n",
              "        vertical-align: middle;\n",
              "    }\n",
              "\n",
              "    .dataframe tbody tr th {\n",
              "        vertical-align: top;\n",
              "    }\n",
              "\n",
              "    .dataframe thead th {\n",
              "        text-align: right;\n",
              "    }\n",
              "</style>\n",
              "<table border=\"1\" class=\"dataframe\">\n",
              "  <thead>\n",
              "    <tr style=\"text-align: right;\">\n",
              "      <th></th>\n",
              "      <th>country</th>\n",
              "      <th>year</th>\n",
              "      <th>iso_code</th>\n",
              "      <th>population</th>\n",
              "      <th>gdp</th>\n",
              "      <th>cement_co2</th>\n",
              "      <th>cement_co2_per_capita</th>\n",
              "      <th>co2</th>\n",
              "      <th>co2_growth_abs</th>\n",
              "      <th>co2_growth_prct</th>\n",
              "      <th>...</th>\n",
              "      <th>share_global_cumulative_other_co2</th>\n",
              "      <th>share_global_flaring_co2</th>\n",
              "      <th>share_global_gas_co2</th>\n",
              "      <th>share_global_luc_co2</th>\n",
              "      <th>share_global_oil_co2</th>\n",
              "      <th>share_global_other_co2</th>\n",
              "      <th>total_ghg</th>\n",
              "      <th>total_ghg_excluding_lucf</th>\n",
              "      <th>trade_co2</th>\n",
              "      <th>trade_co2_share</th>\n",
              "    </tr>\n",
              "  </thead>\n",
              "  <tbody>\n",
              "    <tr>\n",
              "      <th>8940</th>\n",
              "      <td>China</td>\n",
              "      <td>1971</td>\n",
              "      <td>CHN</td>\n",
              "      <td>843285440.0</td>\n",
              "      <td>1.216238e+12</td>\n",
              "      <td>13.124</td>\n",
              "      <td>0.016</td>\n",
              "      <td>909.210</td>\n",
              "      <td>101.257</td>\n",
              "      <td>12.533</td>\n",
              "      <td>...</td>\n",
              "      <td>47.962</td>\n",
              "      <td>0.246</td>\n",
              "      <td>0.371</td>\n",
              "      <td>9.174</td>\n",
              "      <td>1.667</td>\n",
              "      <td>70.766</td>\n",
              "      <td>NaN</td>\n",
              "      <td>NaN</td>\n",
              "      <td>NaN</td>\n",
              "      <td>NaN</td>\n",
              "    </tr>\n",
              "    <tr>\n",
              "      <th>8941</th>\n",
              "      <td>China</td>\n",
              "      <td>1972</td>\n",
              "      <td>CHN</td>\n",
              "      <td>862840384.0</td>\n",
              "      <td>1.233565e+12</td>\n",
              "      <td>14.717</td>\n",
              "      <td>0.017</td>\n",
              "      <td>968.646</td>\n",
              "      <td>59.436</td>\n",
              "      <td>6.537</td>\n",
              "      <td>...</td>\n",
              "      <td>49.688</td>\n",
              "      <td>0.295</td>\n",
              "      <td>0.452</td>\n",
              "      <td>9.700</td>\n",
              "      <td>1.781</td>\n",
              "      <td>71.925</td>\n",
              "      <td>NaN</td>\n",
              "      <td>NaN</td>\n",
              "      <td>NaN</td>\n",
              "      <td>NaN</td>\n",
              "    </tr>\n",
              "    <tr>\n",
              "      <th>8942</th>\n",
              "      <td>China</td>\n",
              "      <td>1973</td>\n",
              "      <td>CHN</td>\n",
              "      <td>881652096.0</td>\n",
              "      <td>1.334375e+12</td>\n",
              "      <td>15.456</td>\n",
              "      <td>0.018</td>\n",
              "      <td>1008.293</td>\n",
              "      <td>39.647</td>\n",
              "      <td>4.093</td>\n",
              "      <td>...</td>\n",
              "      <td>51.343</td>\n",
              "      <td>0.314</td>\n",
              "      <td>0.520</td>\n",
              "      <td>12.852</td>\n",
              "      <td>1.931</td>\n",
              "      <td>72.721</td>\n",
              "      <td>NaN</td>\n",
              "      <td>NaN</td>\n",
              "      <td>NaN</td>\n",
              "      <td>NaN</td>\n",
              "    </tr>\n",
              "    <tr>\n",
              "      <th>8943</th>\n",
              "      <td>China</td>\n",
              "      <td>1974</td>\n",
              "      <td>CHN</td>\n",
              "      <td>899367680.0</td>\n",
              "      <td>1.367632e+12</td>\n",
              "      <td>15.340</td>\n",
              "      <td>0.017</td>\n",
              "      <td>1028.100</td>\n",
              "      <td>19.807</td>\n",
              "      <td>1.964</td>\n",
              "      <td>...</td>\n",
              "      <td>52.784</td>\n",
              "      <td>0.418</td>\n",
              "      <td>0.639</td>\n",
              "      <td>10.267</td>\n",
              "      <td>2.252</td>\n",
              "      <td>72.557</td>\n",
              "      <td>NaN</td>\n",
              "      <td>NaN</td>\n",
              "      <td>NaN</td>\n",
              "      <td>NaN</td>\n",
              "    </tr>\n",
              "    <tr>\n",
              "      <th>8944</th>\n",
              "      <td>China</td>\n",
              "      <td>1975</td>\n",
              "      <td>CHN</td>\n",
              "      <td>915124672.0</td>\n",
              "      <td>1.460734e+12</td>\n",
              "      <td>19.102</td>\n",
              "      <td>0.021</td>\n",
              "      <td>1183.215</td>\n",
              "      <td>155.115</td>\n",
              "      <td>15.088</td>\n",
              "      <td>...</td>\n",
              "      <td>53.946</td>\n",
              "      <td>0.566</td>\n",
              "      <td>0.752</td>\n",
              "      <td>11.580</td>\n",
              "      <td>2.540</td>\n",
              "      <td>72.942</td>\n",
              "      <td>NaN</td>\n",
              "      <td>NaN</td>\n",
              "      <td>NaN</td>\n",
              "      <td>NaN</td>\n",
              "    </tr>\n",
              "    <tr>\n",
              "      <th>...</th>\n",
              "      <td>...</td>\n",
              "      <td>...</td>\n",
              "      <td>...</td>\n",
              "      <td>...</td>\n",
              "      <td>...</td>\n",
              "      <td>...</td>\n",
              "      <td>...</td>\n",
              "      <td>...</td>\n",
              "      <td>...</td>\n",
              "      <td>...</td>\n",
              "      <td>...</td>\n",
              "      <td>...</td>\n",
              "      <td>...</td>\n",
              "      <td>...</td>\n",
              "      <td>...</td>\n",
              "      <td>...</td>\n",
              "      <td>...</td>\n",
              "      <td>...</td>\n",
              "      <td>...</td>\n",
              "      <td>...</td>\n",
              "      <td>...</td>\n",
              "    </tr>\n",
              "    <tr>\n",
              "      <th>44217</th>\n",
              "      <td>United States</td>\n",
              "      <td>2016</td>\n",
              "      <td>USA</td>\n",
              "      <td>327210208.0</td>\n",
              "      <td>1.716256e+13</td>\n",
              "      <td>39.439</td>\n",
              "      <td>0.121</td>\n",
              "      <td>5251.757</td>\n",
              "      <td>-124.820</td>\n",
              "      <td>-2.322</td>\n",
              "      <td>...</td>\n",
              "      <td>15.864</td>\n",
              "      <td>14.418</td>\n",
              "      <td>21.247</td>\n",
              "      <td>1.354</td>\n",
              "      <td>19.125</td>\n",
              "      <td>9.545</td>\n",
              "      <td>5743.85</td>\n",
              "      <td>5974.20</td>\n",
              "      <td>412.188</td>\n",
              "      <td>7.849</td>\n",
              "    </tr>\n",
              "    <tr>\n",
              "      <th>44218</th>\n",
              "      <td>United States</td>\n",
              "      <td>2017</td>\n",
              "      <td>USA</td>\n",
              "      <td>329791232.0</td>\n",
              "      <td>1.759628e+13</td>\n",
              "      <td>40.324</td>\n",
              "      <td>0.122</td>\n",
              "      <td>5210.958</td>\n",
              "      <td>-40.800</td>\n",
              "      <td>-0.777</td>\n",
              "      <td>...</td>\n",
              "      <td>15.627</td>\n",
              "      <td>15.114</td>\n",
              "      <td>20.440</td>\n",
              "      <td>1.522</td>\n",
              "      <td>18.907</td>\n",
              "      <td>9.210</td>\n",
              "      <td>5689.61</td>\n",
              "      <td>5918.76</td>\n",
              "      <td>424.355</td>\n",
              "      <td>8.144</td>\n",
              "    </tr>\n",
              "    <tr>\n",
              "      <th>44219</th>\n",
              "      <td>United States</td>\n",
              "      <td>2018</td>\n",
              "      <td>USA</td>\n",
              "      <td>332140032.0</td>\n",
              "      <td>1.814065e+13</td>\n",
              "      <td>38.971</td>\n",
              "      <td>0.117</td>\n",
              "      <td>5376.657</td>\n",
              "      <td>165.700</td>\n",
              "      <td>3.180</td>\n",
              "      <td>...</td>\n",
              "      <td>15.370</td>\n",
              "      <td>17.662</td>\n",
              "      <td>21.497</td>\n",
              "      <td>1.936</td>\n",
              "      <td>19.283</td>\n",
              "      <td>8.164</td>\n",
              "      <td>5892.37</td>\n",
              "      <td>6121.63</td>\n",
              "      <td>428.020</td>\n",
              "      <td>7.961</td>\n",
              "    </tr>\n",
              "    <tr>\n",
              "      <th>44220</th>\n",
              "      <td>United States</td>\n",
              "      <td>2019</td>\n",
              "      <td>USA</td>\n",
              "      <td>334319680.0</td>\n",
              "      <td>NaN</td>\n",
              "      <td>40.896</td>\n",
              "      <td>0.122</td>\n",
              "      <td>5259.144</td>\n",
              "      <td>-117.513</td>\n",
              "      <td>-2.186</td>\n",
              "      <td>...</td>\n",
              "      <td>15.141</td>\n",
              "      <td>20.121</td>\n",
              "      <td>21.889</td>\n",
              "      <td>2.071</td>\n",
              "      <td>19.107</td>\n",
              "      <td>8.580</td>\n",
              "      <td>5771.00</td>\n",
              "      <td>6001.21</td>\n",
              "      <td>433.339</td>\n",
              "      <td>8.240</td>\n",
              "    </tr>\n",
              "    <tr>\n",
              "      <th>44221</th>\n",
              "      <td>United States</td>\n",
              "      <td>2020</td>\n",
              "      <td>USA</td>\n",
              "      <td>335942016.0</td>\n",
              "      <td>NaN</td>\n",
              "      <td>40.688</td>\n",
              "      <td>0.121</td>\n",
              "      <td>4715.691</td>\n",
              "      <td>-543.453</td>\n",
              "      <td>-10.333</td>\n",
              "      <td>...</td>\n",
              "      <td>14.933</td>\n",
              "      <td>16.606</td>\n",
              "      <td>21.885</td>\n",
              "      <td>2.582</td>\n",
              "      <td>18.311</td>\n",
              "      <td>8.549</td>\n",
              "      <td>NaN</td>\n",
              "      <td>NaN</td>\n",
              "      <td>481.706</td>\n",
              "      <td>10.215</td>\n",
              "    </tr>\n",
              "  </tbody>\n",
              "</table>\n",
              "<p>500 rows × 74 columns</p>\n",
              "</div>\n",
              "      <button class=\"colab-df-convert\" onclick=\"convertToInteractive('df-1b301dea-6249-4d4d-b736-8ceab9d20cca')\"\n",
              "              title=\"Convert this dataframe to an interactive table.\"\n",
              "              style=\"display:none;\">\n",
              "        \n",
              "  <svg xmlns=\"http://www.w3.org/2000/svg\" height=\"24px\"viewBox=\"0 0 24 24\"\n",
              "       width=\"24px\">\n",
              "    <path d=\"M0 0h24v24H0V0z\" fill=\"none\"/>\n",
              "    <path d=\"M18.56 5.44l.94 2.06.94-2.06 2.06-.94-2.06-.94-.94-2.06-.94 2.06-2.06.94zm-11 1L8.5 8.5l.94-2.06 2.06-.94-2.06-.94L8.5 2.5l-.94 2.06-2.06.94zm10 10l.94 2.06.94-2.06 2.06-.94-2.06-.94-.94-2.06-.94 2.06-2.06.94z\"/><path d=\"M17.41 7.96l-1.37-1.37c-.4-.4-.92-.59-1.43-.59-.52 0-1.04.2-1.43.59L10.3 9.45l-7.72 7.72c-.78.78-.78 2.05 0 2.83L4 21.41c.39.39.9.59 1.41.59.51 0 1.02-.2 1.41-.59l7.78-7.78 2.81-2.81c.8-.78.8-2.07 0-2.86zM5.41 20L4 18.59l7.72-7.72 1.47 1.35L5.41 20z\"/>\n",
              "  </svg>\n",
              "      </button>\n",
              "      \n",
              "  <style>\n",
              "    .colab-df-container {\n",
              "      display:flex;\n",
              "      flex-wrap:wrap;\n",
              "      gap: 12px;\n",
              "    }\n",
              "\n",
              "    .colab-df-convert {\n",
              "      background-color: #E8F0FE;\n",
              "      border: none;\n",
              "      border-radius: 50%;\n",
              "      cursor: pointer;\n",
              "      display: none;\n",
              "      fill: #1967D2;\n",
              "      height: 32px;\n",
              "      padding: 0 0 0 0;\n",
              "      width: 32px;\n",
              "    }\n",
              "\n",
              "    .colab-df-convert:hover {\n",
              "      background-color: #E2EBFA;\n",
              "      box-shadow: 0px 1px 2px rgba(60, 64, 67, 0.3), 0px 1px 3px 1px rgba(60, 64, 67, 0.15);\n",
              "      fill: #174EA6;\n",
              "    }\n",
              "\n",
              "    [theme=dark] .colab-df-convert {\n",
              "      background-color: #3B4455;\n",
              "      fill: #D2E3FC;\n",
              "    }\n",
              "\n",
              "    [theme=dark] .colab-df-convert:hover {\n",
              "      background-color: #434B5C;\n",
              "      box-shadow: 0px 1px 3px 1px rgba(0, 0, 0, 0.15);\n",
              "      filter: drop-shadow(0px 1px 2px rgba(0, 0, 0, 0.3));\n",
              "      fill: #FFFFFF;\n",
              "    }\n",
              "  </style>\n",
              "\n",
              "      <script>\n",
              "        const buttonEl =\n",
              "          document.querySelector('#df-1b301dea-6249-4d4d-b736-8ceab9d20cca button.colab-df-convert');\n",
              "        buttonEl.style.display =\n",
              "          google.colab.kernel.accessAllowed ? 'block' : 'none';\n",
              "\n",
              "        async function convertToInteractive(key) {\n",
              "          const element = document.querySelector('#df-1b301dea-6249-4d4d-b736-8ceab9d20cca');\n",
              "          const dataTable =\n",
              "            await google.colab.kernel.invokeFunction('convertToInteractive',\n",
              "                                                     [key], {});\n",
              "          if (!dataTable) return;\n",
              "\n",
              "          const docLinkHtml = 'Like what you see? Visit the ' +\n",
              "            '<a target=\"_blank\" href=https://colab.research.google.com/notebooks/data_table.ipynb>data table notebook</a>'\n",
              "            + ' to learn more about interactive tables.';\n",
              "          element.innerHTML = '';\n",
              "          dataTable['output_type'] = 'display_data';\n",
              "          await google.colab.output.renderOutput(dataTable, element);\n",
              "          const docLink = document.createElement('div');\n",
              "          docLink.innerHTML = docLinkHtml;\n",
              "          element.appendChild(docLink);\n",
              "        }\n",
              "      </script>\n",
              "    </div>\n",
              "  </div>\n",
              "  "
            ]
          },
          "metadata": {},
          "execution_count": 78
        }
      ]
    },
    {
      "cell_type": "code",
      "source": [
        "top10_1971_2020.info()"
      ],
      "metadata": {
        "colab": {
          "base_uri": "https://localhost:8080/"
        },
        "id": "NIb3uKaTfYLO",
        "outputId": "2a7e5c98-d6ff-4854-c241-ee5367cf4ee2"
      },
      "execution_count": 79,
      "outputs": [
        {
          "output_type": "stream",
          "name": "stdout",
          "text": [
            "<class 'pandas.core.frame.DataFrame'>\n",
            "Int64Index: 500 entries, 8940 to 44221\n",
            "Data columns (total 74 columns):\n",
            " #   Column                                     Non-Null Count  Dtype  \n",
            "---  ------                                     --------------  -----  \n",
            " 0   country                                    500 non-null    object \n",
            " 1   year                                       500 non-null    int64  \n",
            " 2   iso_code                                   500 non-null    object \n",
            " 3   population                                 500 non-null    float64\n",
            " 4   gdp                                        480 non-null    float64\n",
            " 5   cement_co2                                 500 non-null    float64\n",
            " 6   cement_co2_per_capita                      500 non-null    float64\n",
            " 7   co2                                        500 non-null    float64\n",
            " 8   co2_growth_abs                             500 non-null    float64\n",
            " 9   co2_growth_prct                            500 non-null    float64\n",
            " 10  co2_including_luc                          500 non-null    float64\n",
            " 11  co2_including_luc_growth_abs               500 non-null    float64\n",
            " 12  co2_including_luc_growth_prct              500 non-null    float64\n",
            " 13  co2_including_luc_per_capita               500 non-null    float64\n",
            " 14  co2_including_luc_per_gdp                  480 non-null    float64\n",
            " 15  co2_including_luc_per_unit_energy          486 non-null    float64\n",
            " 16  co2_per_capita                             500 non-null    float64\n",
            " 17  co2_per_gdp                                480 non-null    float64\n",
            " 18  co2_per_unit_energy                        486 non-null    float64\n",
            " 19  coal_co2                                   500 non-null    float64\n",
            " 20  coal_co2_per_capita                        500 non-null    float64\n",
            " 21  consumption_co2                            310 non-null    float64\n",
            " 22  consumption_co2_per_capita                 310 non-null    float64\n",
            " 23  consumption_co2_per_gdp                    290 non-null    float64\n",
            " 24  cumulative_cement_co2                      500 non-null    float64\n",
            " 25  cumulative_co2                             500 non-null    float64\n",
            " 26  cumulative_co2_including_luc               500 non-null    float64\n",
            " 27  cumulative_coal_co2                        500 non-null    float64\n",
            " 28  cumulative_flaring_co2                     500 non-null    float64\n",
            " 29  cumulative_gas_co2                         500 non-null    float64\n",
            " 30  cumulative_luc_co2                         500 non-null    float64\n",
            " 31  cumulative_oil_co2                         500 non-null    float64\n",
            " 32  cumulative_other_co2                       224 non-null    float64\n",
            " 33  energy_per_capita                          486 non-null    float64\n",
            " 34  energy_per_gdp                             466 non-null    float64\n",
            " 35  flaring_co2                                500 non-null    float64\n",
            " 36  flaring_co2_per_capita                     500 non-null    float64\n",
            " 37  gas_co2                                    500 non-null    float64\n",
            " 38  gas_co2_per_capita                         500 non-null    float64\n",
            " 39  ghg_excluding_lucf_per_capita              300 non-null    float64\n",
            " 40  ghg_per_capita                             300 non-null    float64\n",
            " 41  land_use_change_co2                        500 non-null    float64\n",
            " 42  land_use_change_co2_per_capita             500 non-null    float64\n",
            " 43  methane                                    300 non-null    float64\n",
            " 44  methane_per_capita                         300 non-null    float64\n",
            " 45  nitrous_oxide                              300 non-null    float64\n",
            " 46  nitrous_oxide_per_capita                   300 non-null    float64\n",
            " 47  oil_co2                                    500 non-null    float64\n",
            " 48  oil_co2_per_capita                         500 non-null    float64\n",
            " 49  other_co2_per_capita                       224 non-null    float64\n",
            " 50  other_industry_co2                         224 non-null    float64\n",
            " 51  primary_energy_consumption                 486 non-null    float64\n",
            " 52  share_global_cement_co2                    500 non-null    float64\n",
            " 53  share_global_co2                           500 non-null    float64\n",
            " 54  share_global_co2_including_luc             500 non-null    float64\n",
            " 55  share_global_coal_co2                      500 non-null    float64\n",
            " 56  share_global_cumulative_cement_co2         500 non-null    float64\n",
            " 57  share_global_cumulative_co2                500 non-null    float64\n",
            " 58  share_global_cumulative_co2_including_luc  500 non-null    float64\n",
            " 59  share_global_cumulative_coal_co2           500 non-null    float64\n",
            " 60  share_global_cumulative_flaring_co2        500 non-null    float64\n",
            " 61  share_global_cumulative_gas_co2            500 non-null    float64\n",
            " 62  share_global_cumulative_luc_co2            500 non-null    float64\n",
            " 63  share_global_cumulative_oil_co2            500 non-null    float64\n",
            " 64  share_global_cumulative_other_co2          224 non-null    float64\n",
            " 65  share_global_flaring_co2                   500 non-null    float64\n",
            " 66  share_global_gas_co2                       500 non-null    float64\n",
            " 67  share_global_luc_co2                       500 non-null    float64\n",
            " 68  share_global_oil_co2                       500 non-null    float64\n",
            " 69  share_global_other_co2                     224 non-null    float64\n",
            " 70  total_ghg                                  300 non-null    float64\n",
            " 71  total_ghg_excluding_lucf                   300 non-null    float64\n",
            " 72  trade_co2                                  310 non-null    float64\n",
            " 73  trade_co2_share                            310 non-null    float64\n",
            "dtypes: float64(71), int64(1), object(2)\n",
            "memory usage: 293.0+ KB\n"
          ]
        }
      ]
    },
    {
      "cell_type": "markdown",
      "source": [
        "No, the data set is not missing any CO$_2$ emission values for the top 10 emitters in 2020 over the years 1971 to 2020. From using the ```info``` method, we can see that there are 500 non-null entries for our top 10 emitters and there are 500 ```co2``` non-null entries. This indicates that for every year between 1971 to 2020 for each of the 10 top emitters, there is an accompanying CO$_2$ emission value. This is a complete data set."
      ],
      "metadata": {
        "id": "xg5Ja0BL5CfT"
      }
    },
    {
      "cell_type": "markdown",
      "source": [
        "##### $\\rightarrow$ Plot the time plot of the total CO$_2$ emissions from 1971 to 2020 for the top 10 emitters in 2020."
      ],
      "metadata": {
        "id": "D1zXZpkHW-rt"
      }
    },
    {
      "cell_type": "markdown",
      "source": [
        "##### Solution"
      ],
      "metadata": {
        "id": "ejVOrFd73U_k"
      }
    },
    {
      "cell_type": "markdown",
      "source": [
        "We begin by re-defining our list of top 10 emitters as ```top10list```, which will be easier to use for the purpose of plotting time plots. \n",
        "\n",
        "We use the ```groupby``` method to group ```country``` and ```year``` for the purposes of our time plot.\n",
        "\n",
        "Finally, we use the ```lineplot``` method from seaborn to create a time plot of total CO$_2$ emissions from 1971 to 2020."
      ],
      "metadata": {
        "id": "XTWbSXnjAXP8"
      }
    },
    {
      "cell_type": "code",
      "source": [
        "top10list = df[df['country'].isin(['China', 'United States', 'India', 'Russia', 'Japan', 'Iran', 'Saudi Arabia', 'Germany', 'Indonesia', 'South Korea'])]"
      ],
      "metadata": {
        "id": "bAjMZqg37lET"
      },
      "execution_count": 80,
      "outputs": []
    },
    {
      "cell_type": "code",
      "source": [
        "top10list.groupby(['country', 'year'])"
      ],
      "metadata": {
        "colab": {
          "base_uri": "https://localhost:8080/"
        },
        "id": "aGSU3cnVtODy",
        "outputId": "3426d3d8-5943-47ec-ca01-c3a2331c8ff6"
      },
      "execution_count": 81,
      "outputs": [
        {
          "output_type": "execute_result",
          "data": {
            "text/plain": [
              "<pandas.core.groupby.generic.DataFrameGroupBy object at 0x7f2726d1b5b0>"
            ]
          },
          "metadata": {},
          "execution_count": 81
        }
      ]
    },
    {
      "cell_type": "code",
      "source": [
        "##create lineplot using top 10 emitters from 1971-2020\n",
        "sns.lineplot(data=top10list[df['country'].isin(top10list['country'])],\n",
        "             x='year',\n",
        "             y='co2',\n",
        "             hue='country')\n",
        "plt.title('Total CO₂ Emissions for Top 10 Emitters')\n",
        "plt.xlim(1971, 2020)\n",
        "plt.xlabel('Year', fontsize = 13)\n",
        "plt.ylabel('Co2 Emissions (million tonnes)', fontsize = 13)"
      ],
      "metadata": {
        "colab": {
          "base_uri": "https://localhost:8080/",
          "height": 528
        },
        "id": "IkeQRBB9p8QX",
        "outputId": "63337c31-babb-4ca6-fe60-c83c58532921"
      },
      "execution_count": 82,
      "outputs": [
        {
          "output_type": "stream",
          "name": "stderr",
          "text": [
            "<ipython-input-82-f9dbf05bb957>:2: UserWarning: Boolean Series key will be reindexed to match DataFrame index.\n",
            "  sns.lineplot(data=top10list[df['country'].isin(top10list['country'])],\n"
          ]
        },
        {
          "output_type": "execute_result",
          "data": {
            "text/plain": [
              "Text(0, 0.5, 'Co2 Emissions (million tonnes)')"
            ]
          },
          "metadata": {},
          "execution_count": 82
        },
        {
          "output_type": "display_data",
          "data": {
            "text/plain": [
              "<Figure size 640x480 with 1 Axes>"
            ],
            "image/png": "[encoded data removed]"
          },
          "metadata": {}
        }
      ]
    },
    {
      "cell_type": "markdown",
      "source": [
        "The timeplot for the top 10 emitters from 1971 to 2020 shows us how CO$_2$ emissions have changed for each country over the past 50 years. We see that Russia has experienced a drop in CO$_2$ emissions since 1990, which may be correlated with the collapse of the Soviet Union (1989-1991). Additionally, we can see the sharp increase in emissions from China from 2000 onward, correlating to the West's growing dependence on overseas Chinese manufacturing."
      ],
      "metadata": {
        "id": "cj6IQJhcBJUb"
      }
    },
    {
      "cell_type": "markdown",
      "source": [
        "##### $\\rightarrow$ Again, plot the time plot of the total CO$_2$ emissions from 1971 to 2020 for the top 10 emitters in 2020, but now also include a plot of the mean total CO$_2$ emissions over all countries on the same plot."
      ],
      "metadata": {
        "id": "wUbmtc5PYpqF"
      }
    },
    {
      "cell_type": "markdown",
      "source": [
        "##### Solution"
      ],
      "metadata": {
        "id": "0a4JaJuZ3XrK"
      }
    },
    {
      "cell_type": "markdown",
      "source": [
        "Here, we repeat the ```lineplot``` method but with an additional dataset that we define as ```overall_mean_co2```, which represents the mean CO$_2$ emissions for all countries over the years 1971 to 2020. "
      ],
      "metadata": {
        "id": "OuA6bxodCo8y"
      }
    },
    {
      "cell_type": "code",
      "source": [
        "sns.lineplot(data=top10list[df['country'].isin(top10list['country'])],\n",
        "             x='year',\n",
        "             y='co2',\n",
        "             hue='country')\n",
        "\n",
        "## define the mean total CO2 emissions for all countries to be added to the time plot \n",
        "overall_mean_co2 = df.groupby('year')['co2'].mean()\n",
        "\n",
        "sns.lineplot(data=overall_mean_co2, color='black', label='Mean CO$_2$ Emissions')\n",
        "\n",
        "plt.xlim(1971, 2020)\n",
        "plt.title('Total CO₂ Emissions for Top 10 Emitters + Mean Total CO₂ Emissions for All Countries')\n",
        "plt.xlabel('Year', fontsize=13)\n",
        "plt.ylabel('CO₂ Emissions (million tonnes)', fontsize=13)"
      ],
      "metadata": {
        "colab": {
          "base_uri": "https://localhost:8080/",
          "height": 528
        },
        "id": "x04lv9R89Gse",
        "outputId": "bd1ad5c5-4229-429d-f699-a3c69532a31b"
      },
      "execution_count": 83,
      "outputs": [
        {
          "output_type": "stream",
          "name": "stderr",
          "text": [
            "<ipython-input-83-445362162db9>:1: UserWarning: Boolean Series key will be reindexed to match DataFrame index.\n",
            "  sns.lineplot(data=top10list[df['country'].isin(top10list['country'])],\n"
          ]
        },
        {
          "output_type": "execute_result",
          "data": {
            "text/plain": [
              "Text(0, 0.5, 'CO₂ Emissions (million tonnes)')"
            ]
          },
          "metadata": {},
          "execution_count": 83
        },
        {
          "output_type": "display_data",
          "data": {
            "text/plain": [
              "<Figure size 640x480 with 1 Axes>"
            ],
            "image/png": "[encoded data removed]"
          },
          "metadata": {}
        }
      ]
    },
    {
      "cell_type": "markdown",
      "source": [
        "Adding the mean CO$_2$ emissions for all countries to our time plot, we see again how the top 10 emitters are extreme outliers. When accounting for the emissions of the other countries, we see that the mean remains below the top 10 emissions, indicating that the other countries produce significantly less emissions. However, there is still an upward trend for the mean CO$_2$ emissions from 1971-2020."
      ],
      "metadata": {
        "id": "TwScHk6FDZZA"
      }
    },
    {
      "cell_type": "markdown",
      "source": [
        "##### $\\rightarrow$ Given the large difference between the smallest and largest values, it can help to plot the results on a log scale. Produce the plot of the top 10 emitters and the mean with CO$_2$ emissions on a log scale."
      ],
      "metadata": {
        "id": "SPzueyq4cyXK"
      }
    },
    {
      "cell_type": "markdown",
      "source": [
        "##### Solution"
      ],
      "metadata": {
        "id": "B4MDs4FZlyLg"
      }
    },
    {
      "cell_type": "markdown",
      "source": [
        "Here, we simply use the ```plt.yscale``` method to plot the y-axis on a log scale."
      ],
      "metadata": {
        "id": "IuxBB0uZEB6a"
      }
    },
    {
      "cell_type": "code",
      "source": [
        "sns.lineplot(data=top10list[df['country'].isin(top10list['country'])],\n",
        "             x='year',\n",
        "             y='co2',\n",
        "             hue='country')\n",
        "\n",
        "overall_mean_co2 = df.groupby('year')['co2'].mean()\n",
        "\n",
        "sns.lineplot(data=overall_mean_co2, color='black', label='Mean CO$_2$ Emissions')\n",
        "\n",
        "plt.xlim(1971, 2020)\n",
        "plt.title('Total CO₂ Emissions for Top 10 Emitters + Mean Total CO₂ Emissions for All Countries')\n",
        "plt.xlabel('Year', fontsize=13)\n",
        "plt.ylabel('CO₂ Emissions (million tonnes)', fontsize=13)\n",
        "plt.yscale(\"log\") ##Plot the y-axis on a log scale"
      ],
      "metadata": {
        "colab": {
          "base_uri": "https://localhost:8080/",
          "height": 511
        },
        "id": "p4cYwUeP-5lk",
        "outputId": "11431aa5-eab4-4c77-9280-939c3535f26c"
      },
      "execution_count": 84,
      "outputs": [
        {
          "output_type": "stream",
          "name": "stderr",
          "text": [
            "<ipython-input-84-ba2869faeb8b>:1: UserWarning: Boolean Series key will be reindexed to match DataFrame index.\n",
            "  sns.lineplot(data=top10list[df['country'].isin(top10list['country'])],\n"
          ]
        },
        {
          "output_type": "display_data",
          "data": {
            "text/plain": [
              "<Figure size 640x480 with 1 Axes>"
            ],
            "image/png": "[encoded data removed]"
          },
          "metadata": {}
        }
      ]
    },
    {
      "cell_type": "markdown",
      "source": [
        "Here we can better see the upward trend of the mean CO$_2$ emissions for all countries. We also see how some countries, such as the United States and Germany, are not increasing emissions as dramatically as other countries such as China or Indonesia. We can see that countries in The Global South are generally increasing their CO$_2$ emissions more dramatically than countries in the Global North."
      ],
      "metadata": {
        "id": "sSQdNCITEbPs"
      }
    },
    {
      "cell_type": "markdown",
      "source": [
        "##### $\\rightarrow$ Comment on the trend in CO$_2$ emissions from these countries over the last 50 years."
      ],
      "metadata": {
        "id": "bnoVsmMtitYN"
      }
    },
    {
      "cell_type": "markdown",
      "source": [
        "##### Solution"
      ],
      "metadata": {
        "id": "pf0I9hgZlYvb"
      }
    },
    {
      "cell_type": "markdown",
      "source": [
        "From our analysis, we see that the overall global trend of CO$_2$ emissions is increasing. However, we also see that there are large disparities between countries in the amount of CO$_2$ that is being emitted. \n",
        "\n",
        "China emits significantly more CO$_2$ emissions than other countries, including those in the top 10 emitters list. Additionally, China has seen one of the most dramatic increases in emissions over the past 50 years.\n",
        "\n",
        " Within the top 10 emitters list, we see that countries in the Global North have consistently high CO$_2$ emissions over the past 50 years, but with minor to no decrease. In contrast, countries in the Global South are more likely to be increasing their CO$_2$ emissions. \n",
        " \n",
        " This is logical, given that these countries are developing emission-producing infrastructure rapidly and there is a growing demand for overseas manufacturing in Global South countries from Global North countries."
      ],
      "metadata": {
        "id": "Q0M1CsnoJHoI"
      }
    }
  ]
}